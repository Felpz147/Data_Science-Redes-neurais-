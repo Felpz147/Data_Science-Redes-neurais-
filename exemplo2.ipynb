{
 "cells": [
  {
   "cell_type": "markdown",
   "metadata": {},
   "source": []
  },
  {
   "cell_type": "markdown",
   "metadata": {},
   "source": [
    "**IMPORTANDO BIBLIOTECAS**"
   ]
  },
  {
   "cell_type": "code",
   "execution_count": null,
   "metadata": {},
   "outputs": [],
   "source": [
    "import pandas as pd \n",
    "import numpy as np"
   ]
  },
  {
   "cell_type": "markdown",
   "metadata": {},
   "source": [
    "**OBTENDO DADOS**"
   ]
  },
  {
   "cell_type": "code",
   "execution_count": null,
   "metadata": {},
   "outputs": [],
   "source": [
    "try:\n",
    "    print('Obtendo dados...')\n",
    "\n",
    "    ENDERECO_DADOS = 'https://raw.githubusercontent.com/americanas-tech/b2w-reviews01/refs/heads/main/B2W-Reviews01.csv'\n",
    "\n",
    "    df = pd.read_csv(ENDERECO_DADOS, sep=',', encoding='utf-8')[['review_title','overall_rating']]\n",
    "\n",
    "    #excluindo dados não existentes(NaN)\n",
    "    \n",
    "    df = df.dropna(subset=['review_title', 'overall_rating'])\n",
    "\n",
    "    #Transformando colunas em arrays\n",
    "    texts = np.array(df['review_title'])\n",
    "    rating = np.array(df['overall_rating'])\n",
    "\n",
    "    print(df.head())\n",
    "\n",
    "except Exception as e:\n",
    "    print('Erro ao obter dados: ', e)"
   ]
  },
  {
   "cell_type": "code",
   "execution_count": null,
   "metadata": {},
   "outputs": [],
   "source": [
    "from tensorflow.keras.preprocessing.text import Tokenizer #type: ignore\n",
    "from tensorflow.keras.preprocessing.sequence import pad_sequences #type: ignore\n",
    "\n",
    "try:\n",
    "    print('Vetorizando texto...')\n",
    "\n",
    "    tokenizer = Tokenizer()\n",
    "\n",
    "    tokenizer.fit_on_texts(texts)\n",
    "\n",
    "    vetores = tokenizer.texts_to_sequences(texts)\n",
    "\n",
    "    padded_vetores = pad_sequences(vetores)\n",
    "    \n",
    "    print(padded_vetores)\n",
    "except Exception as e:\n",
    "    print('Erro ao obter dados: ', e)"
   ]
  },
  {
   "cell_type": "markdown",
   "metadata": {},
   "source": [
    "**REDE NEURAL**"
   ]
  },
  {
   "cell_type": "code",
   "execution_count": null,
   "metadata": {},
   "outputs": [],
   "source": [
    "from tensorflow.keras.models import Sequential #type: ignore\n",
    "from tensorflow.keras.layers import Embedding, LSTM, Dense #type: ignore\n",
    "from tensorflow.keras.optimizers import Adam #type: ignore\n",
    "try:\n",
    "    print('Construindo a rede neural...')\n",
    "\n",
    "    VOCAB_SIZE = len(tokenizer.word_index) + 1\n",
    "\n",
    "    MAX_SEQUENCE_LENGHT = padded_vetores.shape[1]\n",
    "\n",
    "    VETOR_LENGHT = int(np.sqrt(VOCAB_SIZE))\n",
    "\n",
    "    model = Sequential()\n",
    "\n",
    "    model.add(Embedding(input_dim=VOCAB_SIZE,output_dim=VETOR_LENGHT,input_length = MAX_SEQUENCE_LENGHT))\n",
    "\n",
    "    model.add(LSTM(128))\n",
    "    \n",
    "    model.add(Dense(1))\n",
    "\n",
    "    model.build(input_shape=(None,MAX_SEQUENCE_LENGHT))\n",
    "\n",
    "    otimizador = Adam(learning_rate=0.0005)\n",
    "\n",
    "    model.compile(optimizer=otimizador, loss='mean_squared_error')\n",
    "\n",
    "    model.summary()\n",
    "    print('Modelo configurado')\n",
    "\n",
    "\n",
    "except Exception as e:\n",
    "    print('Erro ao construir dados: ', e)    "
   ]
  },
  {
   "cell_type": "code",
   "execution_count": null,
   "metadata": {},
   "outputs": [],
   "source": [
    "from sklearn.model_selection import train_test_split\n",
    "\n",
    "try:\n",
    "    print('Treinar o modelo de rede neural')\n",
    "\n",
    "    X_train, X_test, y_train, y_test = train_test_split(padded_vetores, rating, test_size=0.2, random_state=42)\n",
    "\n",
    "    model.fit(\n",
    "        X_train,\n",
    "        y_train,\n",
    "        epochs=5,\n",
    "        batch_size=128,\n",
    "        validation_data=(X_test,y_test)\n",
    "    )\n",
    "except Exception as e:\n",
    "    print('Erro ao treinar a rede neural: ', e)    "
   ]
  },
  {
   "cell_type": "code",
   "execution_count": 35,
   "metadata": {},
   "outputs": [
    {
     "name": "stdout",
     "output_type": "stream",
     "text": [
      "\u001b[1m1/1\u001b[0m \u001b[32m━━━━━━━━━━━━━━━━━━━━\u001b[0m\u001b[37m\u001b[0m \u001b[1m0s\u001b[0m 93ms/step\n",
      "Previsões:  [[ 3.3658648 ]\n",
      " [-0.01342357]]\n"
     ]
    }
   ],
   "source": [
    "novos_textos = ['Muito bom, gostei bastante. Top demais! Compensa muito','Nâo recomendo, péssimo produto. Não funciona']\n",
    "\n",
    "novas_sequencias = tokenizer.texts_to_sequences(novos_textos)\n",
    "novas_sequencias_padded = pad_sequences(novas_sequencias)\n",
    "\n",
    "predicoes = model.predict(novas_sequencias_padded)\n",
    "\n",
    "print('Previsões: ' ,predicoes)"
   ]
  }
 ],
 "metadata": {
  "kernelspec": {
   "display_name": "Python 3",
   "language": "python",
   "name": "python3"
  },
  "language_info": {
   "codemirror_mode": {
    "name": "ipython",
    "version": 3
   },
   "file_extension": ".py",
   "mimetype": "text/x-python",
   "name": "python",
   "nbconvert_exporter": "python",
   "pygments_lexer": "ipython3",
   "version": "3.11.4"
  },
  "orig_nbformat": 4
 },
 "nbformat": 4,
 "nbformat_minor": 2
}
